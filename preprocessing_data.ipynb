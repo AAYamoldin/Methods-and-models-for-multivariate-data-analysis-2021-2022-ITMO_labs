{
 "cells": [
  {
   "cell_type": "code",
   "execution_count": 3,
   "metadata": {
    "collapsed": true
   },
   "outputs": [],
   "source": [
    "import pandas as pd"
   ]
  },
  {
   "cell_type": "code",
   "execution_count": 4,
   "outputs": [
    {
     "name": "stderr",
     "output_type": "stream",
     "text": [
      "C:\\Users\\gto_n\\.conda\\envs\\raifhack_2021\\lib\\site-packages\\IPython\\core\\interactiveshell.py:3441: DtypeWarning: Columns (5,6,7,8,9,10,11,12,13,14,15,16,17) have mixed types.Specify dtype option on import or set low_memory=False.\n",
      "  exec(code_obj, self.user_global_ns, self.user_ns)\n"
     ]
    },
    {
     "data": {
      "text/plain": "   county  station  latitude  longitude               date rain  temp  wetb  \\\n0  Galway  ATHENRY    53.289     -8.786  26-jun-2011 01:00  0.0  15.3  14.5   \n1  Galway  ATHENRY    53.289     -8.786  26-jun-2011 02:00  0.0  14.7  13.7   \n2  Galway  ATHENRY    53.289     -8.786  26-jun-2011 03:00  0.0  14.3  13.4   \n3  Galway  ATHENRY    53.289     -8.786  26-jun-2011 04:00  0.0  14.4  13.6   \n4  Galway  ATHENRY    53.289     -8.786  26-jun-2011 05:00  0.0  14.4  13.5   \n\n  dewpt vappr rhum     msl wdsp wddir  sun  vis clht clamt  \n0  13.9  15.8   90  1016.0    8   190  NaN  NaN  NaN   NaN  \n1  12.9  14.9   89  1015.8    7   190  NaN  NaN  NaN   NaN  \n2  12.6  14.6   89  1015.5    6   190  NaN  NaN  NaN   NaN  \n3  12.8  14.8   90  1015.3    7   180  NaN  NaN  NaN   NaN  \n4  12.7  14.7   89  1015.1    6   190  NaN  NaN  NaN   NaN  ",
      "text/html": "<div>\n<style scoped>\n    .dataframe tbody tr th:only-of-type {\n        vertical-align: middle;\n    }\n\n    .dataframe tbody tr th {\n        vertical-align: top;\n    }\n\n    .dataframe thead th {\n        text-align: right;\n    }\n</style>\n<table border=\"1\" class=\"dataframe\">\n  <thead>\n    <tr style=\"text-align: right;\">\n      <th></th>\n      <th>county</th>\n      <th>station</th>\n      <th>latitude</th>\n      <th>longitude</th>\n      <th>date</th>\n      <th>rain</th>\n      <th>temp</th>\n      <th>wetb</th>\n      <th>dewpt</th>\n      <th>vappr</th>\n      <th>rhum</th>\n      <th>msl</th>\n      <th>wdsp</th>\n      <th>wddir</th>\n      <th>sun</th>\n      <th>vis</th>\n      <th>clht</th>\n      <th>clamt</th>\n    </tr>\n  </thead>\n  <tbody>\n    <tr>\n      <th>0</th>\n      <td>Galway</td>\n      <td>ATHENRY</td>\n      <td>53.289</td>\n      <td>-8.786</td>\n      <td>26-jun-2011 01:00</td>\n      <td>0.0</td>\n      <td>15.3</td>\n      <td>14.5</td>\n      <td>13.9</td>\n      <td>15.8</td>\n      <td>90</td>\n      <td>1016.0</td>\n      <td>8</td>\n      <td>190</td>\n      <td>NaN</td>\n      <td>NaN</td>\n      <td>NaN</td>\n      <td>NaN</td>\n    </tr>\n    <tr>\n      <th>1</th>\n      <td>Galway</td>\n      <td>ATHENRY</td>\n      <td>53.289</td>\n      <td>-8.786</td>\n      <td>26-jun-2011 02:00</td>\n      <td>0.0</td>\n      <td>14.7</td>\n      <td>13.7</td>\n      <td>12.9</td>\n      <td>14.9</td>\n      <td>89</td>\n      <td>1015.8</td>\n      <td>7</td>\n      <td>190</td>\n      <td>NaN</td>\n      <td>NaN</td>\n      <td>NaN</td>\n      <td>NaN</td>\n    </tr>\n    <tr>\n      <th>2</th>\n      <td>Galway</td>\n      <td>ATHENRY</td>\n      <td>53.289</td>\n      <td>-8.786</td>\n      <td>26-jun-2011 03:00</td>\n      <td>0.0</td>\n      <td>14.3</td>\n      <td>13.4</td>\n      <td>12.6</td>\n      <td>14.6</td>\n      <td>89</td>\n      <td>1015.5</td>\n      <td>6</td>\n      <td>190</td>\n      <td>NaN</td>\n      <td>NaN</td>\n      <td>NaN</td>\n      <td>NaN</td>\n    </tr>\n    <tr>\n      <th>3</th>\n      <td>Galway</td>\n      <td>ATHENRY</td>\n      <td>53.289</td>\n      <td>-8.786</td>\n      <td>26-jun-2011 04:00</td>\n      <td>0.0</td>\n      <td>14.4</td>\n      <td>13.6</td>\n      <td>12.8</td>\n      <td>14.8</td>\n      <td>90</td>\n      <td>1015.3</td>\n      <td>7</td>\n      <td>180</td>\n      <td>NaN</td>\n      <td>NaN</td>\n      <td>NaN</td>\n      <td>NaN</td>\n    </tr>\n    <tr>\n      <th>4</th>\n      <td>Galway</td>\n      <td>ATHENRY</td>\n      <td>53.289</td>\n      <td>-8.786</td>\n      <td>26-jun-2011 05:00</td>\n      <td>0.0</td>\n      <td>14.4</td>\n      <td>13.5</td>\n      <td>12.7</td>\n      <td>14.7</td>\n      <td>89</td>\n      <td>1015.1</td>\n      <td>6</td>\n      <td>190</td>\n      <td>NaN</td>\n      <td>NaN</td>\n      <td>NaN</td>\n      <td>NaN</td>\n    </tr>\n  </tbody>\n</table>\n</div>"
     },
     "execution_count": 4,
     "metadata": {},
     "output_type": "execute_result"
    }
   ],
   "source": [
    "df = pd.read_csv('./Data/hrly_Irish_weather.csv')\n",
    "df.head()   "
   ],
   "metadata": {
    "collapsed": false,
    "pycharm": {
     "name": "#%%\n"
    }
   }
  },
  {
   "cell_type": "code",
   "execution_count": 7,
   "outputs": [
    {
     "name": "stdout",
     "output_type": "stream",
     "text": [
      "<class 'pandas.core.frame.DataFrame'>\n",
      "RangeIndex: 4660423 entries, 0 to 4660422\n",
      "Data columns (total 18 columns):\n",
      " #   Column     Dtype  \n",
      "---  ------     -----  \n",
      " 0   county     object \n",
      " 1   station    object \n",
      " 2   latitude   float64\n",
      " 3   longitude  float64\n",
      " 4   date       object \n",
      " 5   rain       object \n",
      " 6   temp       object \n",
      " 7   wetb       object \n",
      " 8   dewpt      object \n",
      " 9   vappr      object \n",
      " 10  rhum       object \n",
      " 11  msl        object \n",
      " 12  wdsp       object \n",
      " 13  wddir      object \n",
      " 14  sun        object \n",
      " 15  vis        object \n",
      " 16  clht       object \n",
      " 17  clamt      object \n",
      "dtypes: float64(2), object(16)\n",
      "memory usage: 3.4 GB\n"
     ]
    }
   ],
   "source": [
    "df.info(memory_usage='deep')"
   ],
   "metadata": {
    "collapsed": false,
    "pycharm": {
     "name": "#%%\n"
    }
   }
  },
  {
   "cell_type": "code",
   "execution_count": 6,
   "outputs": [
    {
     "data": {
      "text/plain": "county             0\nstation            0\nlatitude           0\nlongitude          0\ndate               0\nrain               0\ntemp               0\nwetb               0\ndewpt              0\nvappr              0\nrhum               0\nmsl                0\nwdsp          229032\nwddir         229032\nsun          2585167\nvis          2585167\nclht         2585167\nclamt        2585167\ndtype: int64"
     },
     "execution_count": 6,
     "metadata": {},
     "output_type": "execute_result"
    }
   ],
   "source": [
    "df.isnull().sum()"
   ],
   "metadata": {
    "collapsed": false,
    "pycharm": {
     "name": "#%%\n"
    }
   }
  },
  {
   "cell_type": "code",
   "execution_count": null,
   "outputs": [],
   "source": [],
   "metadata": {
    "collapsed": false,
    "pycharm": {
     "name": "#%%\n"
    }
   }
  }
 ],
 "metadata": {
  "kernelspec": {
   "display_name": "Python 3",
   "language": "python",
   "name": "python3"
  },
  "language_info": {
   "codemirror_mode": {
    "name": "ipython",
    "version": 2
   },
   "file_extension": ".py",
   "mimetype": "text/x-python",
   "name": "python",
   "nbconvert_exporter": "python",
   "pygments_lexer": "ipython2",
   "version": "2.7.6"
  }
 },
 "nbformat": 4,
 "nbformat_minor": 0
}